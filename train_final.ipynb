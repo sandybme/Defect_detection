{
 "cells": [
  {
   "cell_type": "code",
   "execution_count": 1,
   "metadata": {
    "tags": []
   },
   "outputs": [],
   "source": [
    "import numpy as np\n",
    "import model as Net\n",
    "import os\n",
    "import scipy.misc as misc\n",
    "import torch\n",
    "import matplotlib.pyplot as plt\n",
    "from sklearn.metrics import accuracy_score, precision_score, recall_score, f1_score\n",
    "import os\n",
    "from PIL import Image\n",
    "import shutil\n",
    "import numpy as np\n",
    "import os\n",
    "import torch\n",
    "from PIL import Image\n",
    "from torchvision.transforms import transforms\n",
    "from torch.utils.data import Dataset\n",
    "import torch\n",
    "from torch.utils.data import DataLoader, random_split\n",
    "from sklearn.metrics import roc_curve\n",
    "from sklearn.metrics import roc_auc_score\n",
    "from sklearn.metrics import confusion_matrix\n",
    "import torch.nn as nn"
   ]
  },
  {
   "cell_type": "code",
   "execution_count": 2,
   "metadata": {
    "tags": []
   },
   "outputs": [
    {
     "name": "stderr",
     "output_type": "stream",
     "text": [
      "/Users/Sandhanakrishnan/anaconda3/envs/deepl/lib/python3.10/site-packages/torchvision/models/_utils.py:208: UserWarning: The parameter 'pretrained' is deprecated since 0.13 and may be removed in the future, please use 'weights' instead.\n",
      "  warnings.warn(\n",
      "/Users/Sandhanakrishnan/anaconda3/envs/deepl/lib/python3.10/site-packages/torchvision/models/_utils.py:223: UserWarning: Arguments other than a weight enum or `None` for 'weights' are deprecated since 0.13 and may be removed in the future. The current behavior is equivalent to passing `weights=ResNet50_Weights.IMAGENET1K_V1`. You can also use `weights=ResNet50_Weights.DEFAULT` to get the most up-to-date weights.\n",
      "  warnings.warn(msg)\n"
     ]
    }
   ],
   "source": [
    "NumClasses =1\n",
    "Learning_Rate=1e-5\n",
    "learning_rate_decay=0.999999#\n",
    "Weight_Decay=1e-5# Weight for the weight decay loss function\n",
    "Net=Net.Net(NumClasses=NumClasses) # Create main resnet image classification brach\n",
    "Net.AddAttententionLayer()\n",
    "optimizer=torch.optim.Adam(params=Net.parameters(),lr=Learning_Rate,weight_decay=Weight_Decay)\n"
   ]
  },
  {
   "cell_type": "code",
   "execution_count": 3,
   "metadata": {
    "tags": []
   },
   "outputs": [
    {
     "data": {
      "text/plain": [
       "device(type='mps')"
      ]
     },
     "execution_count": 3,
     "metadata": {},
     "output_type": "execute_result"
    }
   ],
   "source": [
    "num_epochs =10\n",
    "if torch.cuda.is_available():\n",
    "  device = torch.device(\"cuda\")\n",
    "else:\n",
    "  device = torch.device(\"cpu\")\n",
    "device = torch.device(\"mps\")\n",
    "criterion = torch.nn.BCEWithLogitsLoss()\n",
    "criterion = torch.nn.BCELoss()\n",
    "Net.to(device)\n",
    "torch.cuda.device_count()\n",
    "device"
   ]
  },
  {
   "cell_type": "code",
   "execution_count": 4,
   "metadata": {
    "tags": []
   },
   "outputs": [],
   "source": [
    "def is_image_file(filename):\n",
    "    # Check if file is an image\n",
    "    image_extensions = ['.jpg', '.jpeg', '.png']\n",
    "    return any(filename.lower().endswith(extension) for extension in image_extensions)\n",
    "class CustomDataset(Dataset):\n",
    "    def __init__(self, good_dir, bad_dir, masks_dir, transform=None):\n",
    "        self.good_dir = good_dir\n",
    "        self.bad_dir = bad_dir\n",
    "        self.masks_dir = masks_dir\n",
    "        self.transform = transform\n",
    "\n",
    "        self.good_images = [os.path.join(good_dir, img) for img in os.listdir(good_dir) if is_image_file(img)]\n",
    "        self.bad_images = [os.path.join(bad_dir, img) for img in os.listdir(bad_dir) if is_image_file(img)]\n",
    "        self.total_images = self.good_images + self.bad_images\n",
    "        self.labels = [1] * len(self.good_images) + [0] * len(self.bad_images)\n",
    "\n",
    "    def __len__(self):\n",
    "        return len(self.total_images)\n",
    "\n",
    "    def __getitem__(self, idx):\n",
    "        img_path = self.total_images[idx]\n",
    "        label = self.labels[idx]\n",
    "        image = Image.open(img_path).convert('RGB')\n",
    "        \n",
    "        if self.transform is not None:\n",
    "            image = self.transform(image)\n",
    "        \n",
    "        # If the image is bad, load its mask\n",
    "        if label == 0:\n",
    "            mask_name = 'masks' + os.path.basename(img_path)[3:]\n",
    "            mask_path = os.path.join(self.masks_dir, mask_name)\n",
    "            mask = Image.open(mask_path)\n",
    "            mask = self.transform(mask)\n",
    "            # mask = transforms.ToTensor()(mask)\n",
    "        else:  # If the image is good, create an empty mask\n",
    "            mask = torch.zeros_like(image[0]).unsqueeze(0)  # Assumes masks are single-channel\n",
    "\n",
    "\n",
    "        \n",
    "        return image, mask, label\n",
    "\n",
    "# Define your transform\n",
    "transform = transforms.Compose([\n",
    "    transforms.Resize((224, 224)),\n",
    "    transforms.ToTensor(),\n",
    "])\n",
    "\n",
    "# Instantiate your dataset\n",
    "good_dir = 'Dataset/good'\n",
    "bad_dir = 'Dataset/bad'\n",
    "masks_dir = 'Dataset/masks'\n",
    "\n",
    "dataset = CustomDataset(good_dir=good_dir, bad_dir=bad_dir, masks_dir=masks_dir, transform=transform)\n",
    "total_size = len(dataset)\n",
    "train_size = int(0.7 * total_size)  # 70% for training\n",
    "val_size = int(0.15 * total_size)   # 15% for validation\n",
    "test_size = total_size - train_size - val_size  # Remaining 15% for testing\n",
    "\n",
    "# Split the dataset\n",
    "train_dataset, val_dataset, test_dataset = random_split(dataset, [train_size, val_size, test_size])\n",
    "\n",
    "# from torch.utils.data import DataLoader\n",
    "\n",
    "# train_dataloader = DataLoader(dataset, batch_size=1, shuffle=True)\n",
    "# test_dataloader = DataLoader(test_data, batch_size=64, shuffle=True)\n"
   ]
  },
  {
   "cell_type": "code",
   "execution_count": 5,
   "metadata": {
    "tags": []
   },
   "outputs": [],
   "source": [
    "bs=32\n",
    "train_loader = DataLoader(train_dataset, batch_size=bs, shuffle=True)\n",
    "val_loader = DataLoader(val_dataset, batch_size=1, shuffle=False)\n",
    "test_loader = DataLoader(test_dataset, batch_size=1, shuffle=True)"
   ]
  },
  {
   "cell_type": "code",
   "execution_count": 6,
   "metadata": {
    "tags": []
   },
   "outputs": [],
   "source": [
    "# for name, param in Net.named_parameters():\n",
    "#        if param.device.type == 'cuda':\n",
    "#            print(f'Layer \"{name}\" is on CUDA device')\n",
    "#        else:\n",
    "#            print(f'Layer \"{name}\" is on CPU device')"
   ]
  },
  {
   "cell_type": "code",
   "execution_count": 7,
   "metadata": {
    "tags": []
   },
   "outputs": [
    {
     "name": "stdout",
     "output_type": "stream",
     "text": [
      "Epoch 1/10, Loss: 0.22554317861795425, Accuracy: 0.5982532751091703, Precision: 0.6764705882352942, Recall: 0.756578947368421, F1: 0.7142857142857143\n",
      "Epoch 2/10, Loss: 0.1871253028512001, Accuracy: 0.9301310043668122, Precision: 0.9146341463414634, Recall: 0.9868421052631579, F1: 0.9493670886075949\n",
      "Epoch 3/10, Loss: 0.1563570958872636, Accuracy: 0.9737991266375546, Precision: 0.974025974025974, Recall: 0.9868421052631579, F1: 0.9803921568627451\n",
      "Epoch 4/10, Loss: 0.13015610352158546, Accuracy: 0.9868995633187773, Precision: 0.9933774834437086, Recall: 0.9868421052631579, F1: 0.9900990099009901\n",
      "Epoch 5/10, Loss: 0.11464439580837885, Accuracy: 0.982532751091703, Precision: 0.9868421052631579, Recall: 0.9868421052631579, F1: 0.9868421052631579\n",
      "Epoch 6/10, Loss: 0.07753545542558034, Accuracy: 0.9912663755458515, Precision: 0.993421052631579, Recall: 0.993421052631579, F1: 0.993421052631579\n",
      "Epoch 7/10, Loss: 0.059493662789464, Accuracy: 1.0, Precision: 1.0, Recall: 1.0, F1: 1.0\n",
      "Epoch 8/10, Loss: 0.05840526117632787, Accuracy: 0.9912663755458515, Precision: 0.987012987012987, Recall: 1.0, F1: 0.9934640522875817\n",
      "Epoch 9/10, Loss: 0.033252681295077004, Accuracy: 1.0, Precision: 1.0, Recall: 1.0, F1: 1.0\n",
      "Epoch 10/10, Loss: 0.02736501411224405, Accuracy: 1.0, Precision: 1.0, Recall: 1.0, F1: 1.0\n"
     ]
    }
   ],
   "source": [
    "\n",
    "for epoch in range(num_epochs):\n",
    "    Net.train()  # Set the model to training mode\n",
    "    running_loss = 0.0\n",
    "    all_labels = []\n",
    "    all_predictions = []\n",
    "\n",
    "    for _, batch in enumerate(train_loader):\n",
    "        inputs,mask,labels,=batch\n",
    "        inputs,mask, labels = inputs.to(device),mask.to(device), labels.to(device)\n",
    "        optimizer.zero_grad()\n",
    "\n",
    "        # Forward pass\n",
    "        labels = labels.unsqueeze(1)\n",
    "        \n",
    "        outputs = Net(inputs,mask,Trainmode=True)\n",
    "        outputs = nn.Sigmoid()(outputs)\n",
    "        # print(outputs.shape,labels.shape)\n",
    "        loss = criterion(outputs, labels.float())\n",
    "        loss.backward()\n",
    "        optimizer.step()\n",
    "\n",
    "        running_loss += loss.item()/len(batch)\n",
    "        predictions = outputs > 0.5\n",
    "        all_labels.extend(labels.view(-1).cpu().numpy())\n",
    "        all_predictions.extend(predictions.view(-1).cpu().numpy())\n",
    "\n",
    "    accuracy = accuracy_score(all_labels, all_predictions)\n",
    "    precision = precision_score(all_labels, all_predictions)\n",
    "    recall = recall_score(all_labels, all_predictions)\n",
    "    f1 = f1_score(all_labels, all_predictions)\n",
    "\n",
    "    # Log metrics\n",
    "    print(f\"Epoch {epoch + 1}/{num_epochs}, Loss: {running_loss / len(train_loader)}, \"\n",
    "          f\"Accuracy: {accuracy}, Precision: {precision}, Recall: {recall}, F1: {f1}\")\n",
    " "
   ]
  },
  {
   "cell_type": "code",
   "execution_count": 8,
   "metadata": {
    "tags": []
   },
   "outputs": [],
   "source": [
    "file_path = 'model.pt'\n",
    "torch.save(Net.state_dict(), file_path)\n",
    "# save_model(model, file_path)"
   ]
  },
  {
   "cell_type": "code",
   "execution_count": null,
   "metadata": {
    "tags": []
   },
   "outputs": [],
   "source": []
  },
  {
   "cell_type": "code",
   "execution_count": 9,
   "metadata": {
    "tags": []
   },
   "outputs": [
    {
     "name": "stderr",
     "output_type": "stream",
     "text": [
      "/Users/Sandhanakrishnan/anaconda3/envs/deepl/lib/python3.10/site-packages/torchvision/models/_utils.py:208: UserWarning: The parameter 'pretrained' is deprecated since 0.13 and may be removed in the future, please use 'weights' instead.\n",
      "  warnings.warn(\n",
      "/Users/Sandhanakrishnan/anaconda3/envs/deepl/lib/python3.10/site-packages/torchvision/models/_utils.py:223: UserWarning: Arguments other than a weight enum or `None` for 'weights' are deprecated since 0.13 and may be removed in the future. The current behavior is equivalent to passing `weights=ResNet50_Weights.IMAGENET1K_V1`. You can also use `weights=ResNet50_Weights.DEFAULT` to get the most up-to-date weights.\n",
      "  warnings.warn(msg)\n"
     ]
    },
    {
     "data": {
      "text/plain": [
       "<All keys matched successfully>"
      ]
     },
     "execution_count": 9,
     "metadata": {},
     "output_type": "execute_result"
    }
   ],
   "source": [
    "import model as modelnet\n",
    "model  =  modelnet.Net(1).to(device)\n",
    "layers = torch.load('model.pt')\n",
    "filtered_state_dict = {k: v for k, v in layers.items() if k in model.state_dict()}\n",
    "   \n",
    "model.load_state_dict(filtered_state_dict, strict=False)\n",
    "# model.load_state_dict(layers)\n",
    "# model"
   ]
  },
  {
   "cell_type": "code",
   "execution_count": 10,
   "metadata": {
    "tags": []
   },
   "outputs": [
    {
     "name": "stdout",
     "output_type": "stream",
     "text": [
      "Predicted: ('good', tensor([[0.8289]], device='mps:0')), True Label: ('bad', tensor([[0]], device='mps:0'))\n",
      "Predicted: ('good', tensor([[0.8596]], device='mps:0')), True Label: ('good', tensor([[1]], device='mps:0'))\n",
      "Predicted: ('bad', tensor([[0.4095]], device='mps:0')), True Label: ('bad', tensor([[0]], device='mps:0'))\n",
      "Predicted: ('good', tensor([[0.9445]], device='mps:0')), True Label: ('good', tensor([[1]], device='mps:0'))\n",
      "Predicted: ('bad', tensor([[0.0686]], device='mps:0')), True Label: ('bad', tensor([[0]], device='mps:0'))\n",
      "Predicted: ('good', tensor([[0.8539]], device='mps:0')), True Label: ('good', tensor([[1]], device='mps:0'))\n",
      "Predicted: ('bad', tensor([[0.3450]], device='mps:0')), True Label: ('bad', tensor([[0]], device='mps:0'))\n",
      "Predicted: ('good', tensor([[0.9302]], device='mps:0')), True Label: ('good', tensor([[1]], device='mps:0'))\n",
      "Predicted: ('good', tensor([[0.9433]], device='mps:0')), True Label: ('good', tensor([[1]], device='mps:0'))\n",
      "Predicted: ('bad', tensor([[0.2421]], device='mps:0')), True Label: ('bad', tensor([[0]], device='mps:0'))\n",
      "Predicted: ('good', tensor([[0.5161]], device='mps:0')), True Label: ('good', tensor([[1]], device='mps:0'))\n",
      "Predicted: ('good', tensor([[0.9580]], device='mps:0')), True Label: ('good', tensor([[1]], device='mps:0'))\n",
      "Predicted: ('good', tensor([[0.8629]], device='mps:0')), True Label: ('good', tensor([[1]], device='mps:0'))\n",
      "Predicted: ('good', tensor([[0.5568]], device='mps:0')), True Label: ('bad', tensor([[0]], device='mps:0'))\n",
      "Predicted: ('good', tensor([[0.8710]], device='mps:0')), True Label: ('good', tensor([[1]], device='mps:0'))\n",
      "Predicted: ('bad', tensor([[0.1039]], device='mps:0')), True Label: ('bad', tensor([[0]], device='mps:0'))\n",
      "Predicted: ('good', tensor([[0.9625]], device='mps:0')), True Label: ('good', tensor([[1]], device='mps:0'))\n",
      "Predicted: ('good', tensor([[0.9414]], device='mps:0')), True Label: ('good', tensor([[1]], device='mps:0'))\n",
      "Predicted: ('good', tensor([[0.9542]], device='mps:0')), True Label: ('good', tensor([[1]], device='mps:0'))\n",
      "Predicted: ('good', tensor([[0.8522]], device='mps:0')), True Label: ('good', tensor([[1]], device='mps:0'))\n",
      "Predicted: ('good', tensor([[0.6049]], device='mps:0')), True Label: ('good', tensor([[1]], device='mps:0'))\n",
      "Predicted: ('good', tensor([[0.9443]], device='mps:0')), True Label: ('good', tensor([[1]], device='mps:0'))\n",
      "Predicted: ('bad', tensor([[0.3507]], device='mps:0')), True Label: ('good', tensor([[1]], device='mps:0'))\n",
      "Predicted: ('good', tensor([[0.8577]], device='mps:0')), True Label: ('good', tensor([[1]], device='mps:0'))\n",
      "Predicted: ('good', tensor([[0.9192]], device='mps:0')), True Label: ('good', tensor([[1]], device='mps:0'))\n",
      "Predicted: ('good', tensor([[0.9191]], device='mps:0')), True Label: ('good', tensor([[1]], device='mps:0'))\n",
      "Predicted: ('bad', tensor([[0.0996]], device='mps:0')), True Label: ('bad', tensor([[0]], device='mps:0'))\n",
      "Predicted: ('bad', tensor([[0.3710]], device='mps:0')), True Label: ('bad', tensor([[0]], device='mps:0'))\n",
      "Predicted: ('good', tensor([[0.8809]], device='mps:0')), True Label: ('good', tensor([[1]], device='mps:0'))\n",
      "Predicted: ('bad', tensor([[0.2584]], device='mps:0')), True Label: ('bad', tensor([[0]], device='mps:0'))\n",
      "Predicted: ('bad', tensor([[0.0488]], device='mps:0')), True Label: ('bad', tensor([[0]], device='mps:0'))\n",
      "Predicted: ('good', tensor([[0.9644]], device='mps:0')), True Label: ('good', tensor([[1]], device='mps:0'))\n",
      "Predicted: ('good', tensor([[0.9575]], device='mps:0')), True Label: ('good', tensor([[1]], device='mps:0'))\n",
      "Predicted: ('good', tensor([[0.8977]], device='mps:0')), True Label: ('good', tensor([[1]], device='mps:0'))\n",
      "Predicted: ('good', tensor([[0.8890]], device='mps:0')), True Label: ('good', tensor([[1]], device='mps:0'))\n",
      "Predicted: ('good', tensor([[0.9075]], device='mps:0')), True Label: ('good', tensor([[1]], device='mps:0'))\n",
      "Predicted: ('good', tensor([[0.9225]], device='mps:0')), True Label: ('good', tensor([[1]], device='mps:0'))\n",
      "Predicted: ('bad', tensor([[0.2381]], device='mps:0')), True Label: ('bad', tensor([[0]], device='mps:0'))\n",
      "Predicted: ('bad', tensor([[0.2207]], device='mps:0')), True Label: ('bad', tensor([[0]], device='mps:0'))\n",
      "Predicted: ('good', tensor([[0.8852]], device='mps:0')), True Label: ('good', tensor([[1]], device='mps:0'))\n",
      "Predicted: ('good', tensor([[0.8749]], device='mps:0')), True Label: ('good', tensor([[1]], device='mps:0'))\n",
      "Predicted: ('good', tensor([[0.9581]], device='mps:0')), True Label: ('good', tensor([[1]], device='mps:0'))\n",
      "Predicted: ('good', tensor([[0.8352]], device='mps:0')), True Label: ('good', tensor([[1]], device='mps:0'))\n",
      "Predicted: ('good', tensor([[0.9730]], device='mps:0')), True Label: ('good', tensor([[1]], device='mps:0'))\n",
      "Predicted: ('good', tensor([[0.5920]], device='mps:0')), True Label: ('bad', tensor([[0]], device='mps:0'))\n",
      "Predicted: ('bad', tensor([[0.3184]], device='mps:0')), True Label: ('bad', tensor([[0]], device='mps:0'))\n",
      "Predicted: ('bad', tensor([[0.3111]], device='mps:0')), True Label: ('bad', tensor([[0]], device='mps:0'))\n",
      "Predicted: ('good', tensor([[0.8933]], device='mps:0')), True Label: ('good', tensor([[1]], device='mps:0'))\n",
      "Predicted: ('bad', tensor([[0.3213]], device='mps:0')), True Label: ('bad', tensor([[0]], device='mps:0'))\n",
      "Predicted: ('good', tensor([[0.9172]], device='mps:0')), True Label: ('good', tensor([[1]], device='mps:0'))\n",
      "Test Loss: 0.25006351958960293\n",
      "Accuracy: 0.92, Precision: 0.9142857142857143, Recall: 0.9696969696969697, F1 Score: 0.9411764705882353\n"
     ]
    },
    {
     "data": {
      "image/png": "[encoded data removed]",
      "text/plain": [
       "<Figure size 640x480 with 2 Axes>"
      ]
     },
     "metadata": {},
     "output_type": "display_data"
    }
   ],
   "source": [
    "# import model as modelnet\n",
    "# model  =  modelnet.Net(1,False)\n",
    "# model.load_state_dict(torch.load('model.pt'))\n",
    "model.eval()  # Set the model to evaluation mode\n",
    "running_loss = 0.0\n",
    "all_labels = []\n",
    "all_predictions = []\n",
    "all_outputs = []\n",
    "with torch.no_grad():\n",
    "    for id, batch in enumerate(test_loader):\n",
    "        inputs, mask, labels = batch\n",
    "        inputs, mask, labels = inputs.to(device), mask.to(device), labels.to(device)\n",
    "        labels = labels.unsqueeze(1)\n",
    "\n",
    "        # Set mask to zeros_like as in your code\n",
    "        Mask = torch.zeros_like(mask)\n",
    "        outputs = model(inputs, Mask,False)\n",
    "        # Convert outputs to binary predictions\n",
    "        outputs = nn.Sigmoid()(outputs)\n",
    "        predictions = outputs > 0.5\n",
    "\n",
    "        # Append predictions and labels for later metric calculations\n",
    "        all_labels.extend(labels.view(-1).cpu().numpy())\n",
    "        all_predictions.extend(predictions.view(-1).cpu().numpy())\n",
    "        \n",
    "        all_outputs.extend(outputs.view(-1).cpu().numpy())\n",
    "\n",
    "        loss = criterion(outputs, labels.float())\n",
    "        running_loss += loss.item()\n",
    "\n",
    "        # Optional: print predicted type and true label for each batch\n",
    "        type = 'good' if predictions.item() > 0 else 'bad'\n",
    "        true_label = 'good' if labels.item() > 0 else 'bad'\n",
    "        print(f\"Predicted: {type,outputs}, True Label: {true_label,labels}\")\n",
    "        plt.subplot(121)\n",
    "        plt.imshow(inputs[0].permute(1, 2, 0).detach().cpu().numpy())\n",
    "        plt.subplot(122)\n",
    "        mask_np = mask[0].squeeze(0).detach().cpu().numpy()\n",
    "        plt.imshow(mask_np)\n",
    "\n",
    "        # plt.title('Good' if label == 1 else 'Bad')\n",
    "\n",
    "\n",
    "\n",
    "# Calculate metrics\n",
    "taccuracy = accuracy_score(all_labels, all_predictions)\n",
    "tprecision = precision_score(all_labels, all_predictions)\n",
    "trecall = recall_score(all_labels, all_predictions)\n",
    "tf1 = f1_score(all_labels, all_predictions)\n",
    "\n",
    "# Print calculated metrics\n",
    "print(f\"Test Loss: {running_loss / len(test_loader)}\")\n",
    "print(f\"Accuracy: {taccuracy}, Precision: {tprecision}, Recall: {trecall}, F1 Score: {tf1}\")\n"
   ]
  },
  {
   "cell_type": "code",
   "execution_count": 13,
   "metadata": {},
   "outputs": [
    {
     "name": "stderr",
     "output_type": "stream",
     "text": [
      "/var/folders/9s/s6lvyhtd0g73frgqsh8zk26h0000gp/T/ipykernel_19689/2901628451.py:3: DeprecationWarning: In future, it will be an error for 'np.bool_' scalars to be interpreted as an index\n",
      "  metric = bcm(torch.tensor(all_labels), torch.tensor(all_predictions))\n"
     ]
    },
    {
     "data": {
      "image/png": "[encoded data removed]",
      "text/plain": [
       "<Figure size 640x480 with 1 Axes>"
      ]
     },
     "metadata": {},
     "output_type": "display_data"
    }
   ],
   "source": [
    "\n",
    "from torchmetrics.classification import BinaryConfusionMatrix\n",
    "bcm = BinaryConfusionMatrix()\n",
    "metric = bcm(torch.tensor(all_labels), torch.tensor(all_predictions))\n",
    "fig_, ax_ = bcm.plot()"
   ]
  },
  {
   "cell_type": "code",
   "execution_count": 14,
   "metadata": {
    "tags": []
   },
   "outputs": [
    {
     "data": {
      "image/png": "[encoded data removed]",
      "text/plain": [
       "<Figure size 640x480 with 1 Axes>"
      ]
     },
     "metadata": {},
     "output_type": "display_data"
    }
   ],
   "source": [
    "from torchmetrics.classification import BinaryROC\n",
    "roc = BinaryROC(thresholds=100)\n",
    "all_pred = torch.tensor([float(x) for x in all_predictions])\n",
    "all_lab = torch.tensor([int(x) for x in all_labels])\n",
    "all_out = torch.tensor([x for x in all_outputs])\n",
    "metric = roc(all_out,all_lab)\n",
    "fig_, ax_ = roc.plot(score=True)\n",
    "# all_lab.dtype"
   ]
  },
  {
   "cell_type": "code",
   "execution_count": null,
   "metadata": {},
   "outputs": [],
   "source": []
  },
  {
   "cell_type": "code",
   "execution_count": null,
   "metadata": {},
   "outputs": [],
   "source": []
  }
 ],
 "metadata": {
  "availableInstances": [
   {
    "_defaultOrder": 0,
    "_isFastLaunch": true,
    "category": "General purpose",
    "gpuNum": 0,
    "hideHardwareSpecs": false,
    "memoryGiB": 4,
    "name": "ml.t3.medium",
    "vcpuNum": 2
   },
   {
    "_defaultOrder": 1,
    "_isFastLaunch": false,
    "category": "General purpose",
    "gpuNum": 0,
    "hideHardwareSpecs": false,
    "memoryGiB": 8,
    "name": "ml.t3.large",
    "vcpuNum": 2
   },
   {
    "_defaultOrder": 2,
    "_isFastLaunch": false,
    "category": "General purpose",
    "gpuNum": 0,
    "hideHardwareSpecs": false,
    "memoryGiB": 16,
    "name": "ml.t3.xlarge",
    "vcpuNum": 4
   },
   {
    "_defaultOrder": 3,
    "_isFastLaunch": false,
    "category": "General purpose",
    "gpuNum": 0,
    "hideHardwareSpecs": false,
    "memoryGiB": 32,
    "name": "ml.t3.2xlarge",
    "vcpuNum": 8
   },
   {
    "_defaultOrder": 4,
    "_isFastLaunch": true,
    "category": "General purpose",
    "gpuNum": 0,
    "hideHardwareSpecs": false,
    "memoryGiB": 8,
    "name": "ml.m5.large",
    "vcpuNum": 2
   },
   {
    "_defaultOrder": 5,
    "_isFastLaunch": false,
    "category": "General purpose",
    "gpuNum": 0,
    "hideHardwareSpecs": false,
    "memoryGiB": 16,
    "name": "ml.m5.xlarge",
    "vcpuNum": 4
   },
   {
    "_defaultOrder": 6,
    "_isFastLaunch": false,
    "category": "General purpose",
    "gpuNum": 0,
    "hideHardwareSpecs": false,
    "memoryGiB": 32,
    "name": "ml.m5.2xlarge",
    "vcpuNum": 8
   },
   {
    "_defaultOrder": 7,
    "_isFastLaunch": false,
    "category": "General purpose",
    "gpuNum": 0,
    "hideHardwareSpecs": false,
    "memoryGiB": 64,
    "name": "ml.m5.4xlarge",
    "vcpuNum": 16
   },
   {
    "_defaultOrder": 8,
    "_isFastLaunch": false,
    "category": "General purpose",
    "gpuNum": 0,
    "hideHardwareSpecs": false,
    "memoryGiB": 128,
    "name": "ml.m5.8xlarge",
    "vcpuNum": 32
   },
   {
    "_defaultOrder": 9,
    "_isFastLaunch": false,
    "category": "General purpose",
    "gpuNum": 0,
    "hideHardwareSpecs": false,
    "memoryGiB": 192,
    "name": "ml.m5.12xlarge",
    "vcpuNum": 48
   },
   {
    "_defaultOrder": 10,
    "_isFastLaunch": false,
    "category": "General purpose",
    "gpuNum": 0,
    "hideHardwareSpecs": false,
    "memoryGiB": 256,
    "name": "ml.m5.16xlarge",
    "vcpuNum": 64
   },
   {
    "_defaultOrder": 11,
    "_isFastLaunch": false,
    "category": "General purpose",
    "gpuNum": 0,
    "hideHardwareSpecs": false,
    "memoryGiB": 384,
    "name": "ml.m5.24xlarge",
    "vcpuNum": 96
   },
   {
    "_defaultOrder": 12,
    "_isFastLaunch": false,
    "category": "General purpose",
    "gpuNum": 0,
    "hideHardwareSpecs": false,
    "memoryGiB": 8,
    "name": "ml.m5d.large",
    "vcpuNum": 2
   },
   {
    "_defaultOrder": 13,
    "_isFastLaunch": false,
    "category": "General purpose",
    "gpuNum": 0,
    "hideHardwareSpecs": false,
    "memoryGiB": 16,
    "name": "ml.m5d.xlarge",
    "vcpuNum": 4
   },
   {
    "_defaultOrder": 14,
    "_isFastLaunch": false,
    "category": "General purpose",
    "gpuNum": 0,
    "hideHardwareSpecs": false,
    "memoryGiB": 32,
    "name": "ml.m5d.2xlarge",
    "vcpuNum": 8
   },
   {
    "_defaultOrder": 15,
    "_isFastLaunch": false,
    "category": "General purpose",
    "gpuNum": 0,
    "hideHardwareSpecs": false,
    "memoryGiB": 64,
    "name": "ml.m5d.4xlarge",
    "vcpuNum": 16
   },
   {
    "_defaultOrder": 16,
    "_isFastLaunch": false,
    "category": "General purpose",
    "gpuNum": 0,
    "hideHardwareSpecs": false,
    "memoryGiB": 128,
    "name": "ml.m5d.8xlarge",
    "vcpuNum": 32
   },
   {
    "_defaultOrder": 17,
    "_isFastLaunch": false,
    "category": "General purpose",
    "gpuNum": 0,
    "hideHardwareSpecs": false,
    "memoryGiB": 192,
    "name": "ml.m5d.12xlarge",
    "vcpuNum": 48
   },
   {
    "_defaultOrder": 18,
    "_isFastLaunch": false,
    "category": "General purpose",
    "gpuNum": 0,
    "hideHardwareSpecs": false,
    "memoryGiB": 256,
    "name": "ml.m5d.16xlarge",
    "vcpuNum": 64
   },
   {
    "_defaultOrder": 19,
    "_isFastLaunch": false,
    "category": "General purpose",
    "gpuNum": 0,
    "hideHardwareSpecs": false,
    "memoryGiB": 384,
    "name": "ml.m5d.24xlarge",
    "vcpuNum": 96
   },
   {
    "_defaultOrder": 20,
    "_isFastLaunch": false,
    "category": "General purpose",
    "gpuNum": 0,
    "hideHardwareSpecs": true,
    "memoryGiB": 0,
    "name": "ml.geospatial.interactive",
    "supportedImageNames": [
     "sagemaker-geospatial-v1-0"
    ],
    "vcpuNum": 0
   },
   {
    "_defaultOrder": 21,
    "_isFastLaunch": true,
    "category": "Compute optimized",
    "gpuNum": 0,
    "hideHardwareSpecs": false,
    "memoryGiB": 4,
    "name": "ml.c5.large",
    "vcpuNum": 2
   },
   {
    "_defaultOrder": 22,
    "_isFastLaunch": false,
    "category": "Compute optimized",
    "gpuNum": 0,
    "hideHardwareSpecs": false,
    "memoryGiB": 8,
    "name": "ml.c5.xlarge",
    "vcpuNum": 4
   },
   {
    "_defaultOrder": 23,
    "_isFastLaunch": false,
    "category": "Compute optimized",
    "gpuNum": 0,
    "hideHardwareSpecs": false,
    "memoryGiB": 16,
    "name": "ml.c5.2xlarge",
    "vcpuNum": 8
   },
   {
    "_defaultOrder": 24,
    "_isFastLaunch": false,
    "category": "Compute optimized",
    "gpuNum": 0,
    "hideHardwareSpecs": false,
    "memoryGiB": 32,
    "name": "ml.c5.4xlarge",
    "vcpuNum": 16
   },
   {
    "_defaultOrder": 25,
    "_isFastLaunch": false,
    "category": "Compute optimized",
    "gpuNum": 0,
    "hideHardwareSpecs": false,
    "memoryGiB": 72,
    "name": "ml.c5.9xlarge",
    "vcpuNum": 36
   },
   {
    "_defaultOrder": 26,
    "_isFastLaunch": false,
    "category": "Compute optimized",
    "gpuNum": 0,
    "hideHardwareSpecs": false,
    "memoryGiB": 96,
    "name": "ml.c5.12xlarge",
    "vcpuNum": 48
   },
   {
    "_defaultOrder": 27,
    "_isFastLaunch": false,
    "category": "Compute optimized",
    "gpuNum": 0,
    "hideHardwareSpecs": false,
    "memoryGiB": 144,
    "name": "ml.c5.18xlarge",
    "vcpuNum": 72
   },
   {
    "_defaultOrder": 28,
    "_isFastLaunch": false,
    "category": "Compute optimized",
    "gpuNum": 0,
    "hideHardwareSpecs": false,
    "memoryGiB": 192,
    "name": "ml.c5.24xlarge",
    "vcpuNum": 96
   },
   {
    "_defaultOrder": 29,
    "_isFastLaunch": true,
    "category": "Accelerated computing",
    "gpuNum": 1,
    "hideHardwareSpecs": false,
    "memoryGiB": 16,
    "name": "ml.g4dn.xlarge",
    "vcpuNum": 4
   },
   {
    "_defaultOrder": 30,
    "_isFastLaunch": false,
    "category": "Accelerated computing",
    "gpuNum": 1,
    "hideHardwareSpecs": false,
    "memoryGiB": 32,
    "name": "ml.g4dn.2xlarge",
    "vcpuNum": 8
   },
   {
    "_defaultOrder": 31,
    "_isFastLaunch": false,
    "category": "Accelerated computing",
    "gpuNum": 1,
    "hideHardwareSpecs": false,
    "memoryGiB": 64,
    "name": "ml.g4dn.4xlarge",
    "vcpuNum": 16
   },
   {
    "_defaultOrder": 32,
    "_isFastLaunch": false,
    "category": "Accelerated computing",
    "gpuNum": 1,
    "hideHardwareSpecs": false,
    "memoryGiB": 128,
    "name": "ml.g4dn.8xlarge",
    "vcpuNum": 32
   },
   {
    "_defaultOrder": 33,
    "_isFastLaunch": false,
    "category": "Accelerated computing",
    "gpuNum": 4,
    "hideHardwareSpecs": false,
    "memoryGiB": 192,
    "name": "ml.g4dn.12xlarge",
    "vcpuNum": 48
   },
   {
    "_defaultOrder": 34,
    "_isFastLaunch": false,
    "category": "Accelerated computing",
    "gpuNum": 1,
    "hideHardwareSpecs": false,
    "memoryGiB": 256,
    "name": "ml.g4dn.16xlarge",
    "vcpuNum": 64
   },
   {
    "_defaultOrder": 35,
    "_isFastLaunch": false,
    "category": "Accelerated computing",
    "gpuNum": 1,
    "hideHardwareSpecs": false,
    "memoryGiB": 61,
    "name": "ml.p3.2xlarge",
    "vcpuNum": 8
   },
   {
    "_defaultOrder": 36,
    "_isFastLaunch": false,
    "category": "Accelerated computing",
    "gpuNum": 4,
    "hideHardwareSpecs": false,
    "memoryGiB": 244,
    "name": "ml.p3.8xlarge",
    "vcpuNum": 32
   },
   {
    "_defaultOrder": 37,
    "_isFastLaunch": false,
    "category": "Accelerated computing",
    "gpuNum": 8,
    "hideHardwareSpecs": false,
    "memoryGiB": 488,
    "name": "ml.p3.16xlarge",
    "vcpuNum": 64
   },
   {
    "_defaultOrder": 38,
    "_isFastLaunch": false,
    "category": "Accelerated computing",
    "gpuNum": 8,
    "hideHardwareSpecs": false,
    "memoryGiB": 768,
    "name": "ml.p3dn.24xlarge",
    "vcpuNum": 96
   },
   {
    "_defaultOrder": 39,
    "_isFastLaunch": false,
    "category": "Memory Optimized",
    "gpuNum": 0,
    "hideHardwareSpecs": false,
    "memoryGiB": 16,
    "name": "ml.r5.large",
    "vcpuNum": 2
   },
   {
    "_defaultOrder": 40,
    "_isFastLaunch": false,
    "category": "Memory Optimized",
    "gpuNum": 0,
    "hideHardwareSpecs": false,
    "memoryGiB": 32,
    "name": "ml.r5.xlarge",
    "vcpuNum": 4
   },
   {
    "_defaultOrder": 41,
    "_isFastLaunch": false,
    "category": "Memory Optimized",
    "gpuNum": 0,
    "hideHardwareSpecs": false,
    "memoryGiB": 64,
    "name": "ml.r5.2xlarge",
    "vcpuNum": 8
   },
   {
    "_defaultOrder": 42,
    "_isFastLaunch": false,
    "category": "Memory Optimized",
    "gpuNum": 0,
    "hideHardwareSpecs": false,
    "memoryGiB": 128,
    "name": "ml.r5.4xlarge",
    "vcpuNum": 16
   },
   {
    "_defaultOrder": 43,
    "_isFastLaunch": false,
    "category": "Memory Optimized",
    "gpuNum": 0,
    "hideHardwareSpecs": false,
    "memoryGiB": 256,
    "name": "ml.r5.8xlarge",
    "vcpuNum": 32
   },
   {
    "_defaultOrder": 44,
    "_isFastLaunch": false,
    "category": "Memory Optimized",
    "gpuNum": 0,
    "hideHardwareSpecs": false,
    "memoryGiB": 384,
    "name": "ml.r5.12xlarge",
    "vcpuNum": 48
   },
   {
    "_defaultOrder": 45,
    "_isFastLaunch": false,
    "category": "Memory Optimized",
    "gpuNum": 0,
    "hideHardwareSpecs": false,
    "memoryGiB": 512,
    "name": "ml.r5.16xlarge",
    "vcpuNum": 64
   },
   {
    "_defaultOrder": 46,
    "_isFastLaunch": false,
    "category": "Memory Optimized",
    "gpuNum": 0,
    "hideHardwareSpecs": false,
    "memoryGiB": 768,
    "name": "ml.r5.24xlarge",
    "vcpuNum": 96
   },
   {
    "_defaultOrder": 47,
    "_isFastLaunch": false,
    "category": "Accelerated computing",
    "gpuNum": 1,
    "hideHardwareSpecs": false,
    "memoryGiB": 16,
    "name": "ml.g5.xlarge",
    "vcpuNum": 4
   },
   {
    "_defaultOrder": 48,
    "_isFastLaunch": false,
    "category": "Accelerated computing",
    "gpuNum": 1,
    "hideHardwareSpecs": false,
    "memoryGiB": 32,
    "name": "ml.g5.2xlarge",
    "vcpuNum": 8
   },
   {
    "_defaultOrder": 49,
    "_isFastLaunch": false,
    "category": "Accelerated computing",
    "gpuNum": 1,
    "hideHardwareSpecs": false,
    "memoryGiB": 64,
    "name": "ml.g5.4xlarge",
    "vcpuNum": 16
   },
   {
    "_defaultOrder": 50,
    "_isFastLaunch": false,
    "category": "Accelerated computing",
    "gpuNum": 1,
    "hideHardwareSpecs": false,
    "memoryGiB": 128,
    "name": "ml.g5.8xlarge",
    "vcpuNum": 32
   },
   {
    "_defaultOrder": 51,
    "_isFastLaunch": false,
    "category": "Accelerated computing",
    "gpuNum": 1,
    "hideHardwareSpecs": false,
    "memoryGiB": 256,
    "name": "ml.g5.16xlarge",
    "vcpuNum": 64
   },
   {
    "_defaultOrder": 52,
    "_isFastLaunch": false,
    "category": "Accelerated computing",
    "gpuNum": 4,
    "hideHardwareSpecs": false,
    "memoryGiB": 192,
    "name": "ml.g5.12xlarge",
    "vcpuNum": 48
   },
   {
    "_defaultOrder": 53,
    "_isFastLaunch": false,
    "category": "Accelerated computing",
    "gpuNum": 4,
    "hideHardwareSpecs": false,
    "memoryGiB": 384,
    "name": "ml.g5.24xlarge",
    "vcpuNum": 96
   },
   {
    "_defaultOrder": 54,
    "_isFastLaunch": false,
    "category": "Accelerated computing",
    "gpuNum": 8,
    "hideHardwareSpecs": false,
    "memoryGiB": 768,
    "name": "ml.g5.48xlarge",
    "vcpuNum": 192
   },
   {
    "_defaultOrder": 55,
    "_isFastLaunch": false,
    "category": "Accelerated computing",
    "gpuNum": 8,
    "hideHardwareSpecs": false,
    "memoryGiB": 1152,
    "name": "ml.p4d.24xlarge",
    "vcpuNum": 96
   },
   {
    "_defaultOrder": 56,
    "_isFastLaunch": false,
    "category": "Accelerated computing",
    "gpuNum": 8,
    "hideHardwareSpecs": false,
    "memoryGiB": 1152,
    "name": "ml.p4de.24xlarge",
    "vcpuNum": 96
   },
   {
    "_defaultOrder": 57,
    "_isFastLaunch": false,
    "category": "Accelerated computing",
    "gpuNum": 0,
    "hideHardwareSpecs": false,
    "memoryGiB": 32,
    "name": "ml.trn1.2xlarge",
    "vcpuNum": 8
   },
   {
    "_defaultOrder": 58,
    "_isFastLaunch": false,
    "category": "Accelerated computing",
    "gpuNum": 0,
    "hideHardwareSpecs": false,
    "memoryGiB": 512,
    "name": "ml.trn1.32xlarge",
    "vcpuNum": 128
   },
   {
    "_defaultOrder": 59,
    "_isFastLaunch": false,
    "category": "Accelerated computing",
    "gpuNum": 0,
    "hideHardwareSpecs": false,
    "memoryGiB": 512,
    "name": "ml.trn1n.32xlarge",
    "vcpuNum": 128
   }
  ],
  "instance_type": "ml.g5.2xlarge",
  "kernelspec": {
   "display_name": "deepl",
   "language": "python",
   "name": "python3"
  },
  "language_info": {
   "codemirror_mode": {
    "name": "ipython",
    "version": 3
   },
   "file_extension": ".py",
   "mimetype": "text/x-python",
   "name": "python",
   "nbconvert_exporter": "python",
   "pygments_lexer": "ipython3",
   "version": "3.10.13"
  },
  "lcc_arn": "arn:aws:sagemaker:eu-central-1:268765770896:studio-lifecycle-config/juma-gend35-dev-kernel-eu-central-1-0c0f8858798cfb8e608163e19a3"
 },
 "nbformat": 4,
 "nbformat_minor": 4
}
